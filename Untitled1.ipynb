{
 "cells": [
  {
   "cell_type": "code",
   "execution_count": 1,
   "metadata": {
    "collapsed": true
   },
   "outputs": [],
   "source": [
    "import numpy as np\n",
    "import scipy\n",
    "import pandas\n",
    "import requests\n",
    "import feedparser\n",
    "import json\n",
    "import matplotlib.pyplot as plt"
   ]
  },
  {
   "cell_type": "code",
   "execution_count": 12,
   "metadata": {
    "collapsed": true
   },
   "outputs": [],
   "source": [
    "TICKER = \"aapl\""
   ]
  },
  {
   "cell_type": "code",
   "execution_count": 14,
   "metadata": {
    "collapsed": true
   },
   "outputs": [],
   "source": [
    "data = feedparser.parse(requests.get(\"https://www.google.com/finance/company_news?q=\" + TICKER + \"&output=rss\").text)"
   ]
  },
  {
   "cell_type": "code",
   "execution_count": 15,
   "metadata": {
    "collapsed": true
   },
   "outputs": [],
   "source": [
    "d = pandas.DataFrame.from_dict(data['entries'])"
   ]
  },
  {
   "cell_type": "code",
   "execution_count": 16,
   "metadata": {
    "collapsed": false,
    "scrolled": true
   },
   "outputs": [
    {
     "data": {
      "text/html": [
       "<div>\n",
       "<table border=\"1\" class=\"dataframe\">\n",
       "  <thead>\n",
       "    <tr style=\"text-align: right;\">\n",
       "      <th></th>\n",
       "      <th>guidislink</th>\n",
       "      <th>id</th>\n",
       "      <th>link</th>\n",
       "      <th>links</th>\n",
       "      <th>published</th>\n",
       "      <th>published_parsed</th>\n",
       "      <th>summary</th>\n",
       "      <th>summary_detail</th>\n",
       "      <th>title</th>\n",
       "      <th>title_detail</th>\n",
       "    </tr>\n",
       "  </thead>\n",
       "  <tbody>\n",
       "    <tr>\n",
       "      <th>0</th>\n",
       "      <td>False</td>\n",
       "      <td>tag:finance.google.com,cluster:52778995600145</td>\n",
       "      <td>http://www.fool.com/investing/general/2015/11/...</td>\n",
       "      <td>[{u'href': u'http://www.fool.com/investing/gen...</td>\n",
       "      <td>Sat, 21 Nov 2015 16:30:00 GMT</td>\n",
       "      <td>(2015, 11, 21, 16, 30, 0, 5, 325, 0)</td>\n",
       "      <td>&lt;div style=\"padding: 0px; margin-bottom: 1.5em...</td>\n",
       "      <td>{u'base': u'', u'type': u'text/html', u'value'...</td>\n",
       "      <td>5 Apple Inc. Car Rumors We've Learned Over the...</td>\n",
       "      <td>{u'base': u'', u'type': u'text/html', u'value'...</td>\n",
       "    </tr>\n",
       "    <tr>\n",
       "      <th>1</th>\n",
       "      <td>False</td>\n",
       "      <td>tag:finance.google.com,cluster:52778996136253</td>\n",
       "      <td>http://www.fool.com/investing/general/2015/11/...</td>\n",
       "      <td>[{u'href': u'http://www.fool.com/investing/gen...</td>\n",
       "      <td>Sat, 21 Nov 2015 11:26:15 GMT</td>\n",
       "      <td>(2015, 11, 21, 11, 26, 15, 5, 325, 0)</td>\n",
       "      <td>&lt;div style=\"padding: 0px; margin-bottom: 1.5em...</td>\n",
       "      <td>{u'base': u'', u'type': u'text/html', u'value'...</td>\n",
       "      <td>TSMC Said to Be the Sole Manufacturer of Apple...</td>\n",
       "      <td>{u'base': u'', u'type': u'text/html', u'value'...</td>\n",
       "    </tr>\n",
       "    <tr>\n",
       "      <th>2</th>\n",
       "      <td>False</td>\n",
       "      <td>tag:finance.google.com,cluster:52778994514540</td>\n",
       "      <td>http://www.fool.com/investing/general/2015/11/...</td>\n",
       "      <td>[{u'href': u'http://www.fool.com/investing/gen...</td>\n",
       "      <td>Thu, 19 Nov 2015 18:00:00 GMT</td>\n",
       "      <td>(2015, 11, 19, 18, 0, 0, 3, 323, 0)</td>\n",
       "      <td>&lt;div style=\"padding: 0px; margin-bottom: 1.5em...</td>\n",
       "      <td>{u'base': u'', u'type': u'text/html', u'value'...</td>\n",
       "      <td>Analyst: Apple Inc. Stock Has Huge Upside</td>\n",
       "      <td>{u'base': u'', u'type': u'text/plain', u'value...</td>\n",
       "    </tr>\n",
       "    <tr>\n",
       "      <th>3</th>\n",
       "      <td>False</td>\n",
       "      <td>tag:finance.google.com,cluster:52778995809522</td>\n",
       "      <td>http://www.fool.com/investing/general/2015/11/...</td>\n",
       "      <td>[{u'href': u'http://www.fool.com/investing/gen...</td>\n",
       "      <td>Fri, 20 Nov 2015 17:15:00 GMT</td>\n",
       "      <td>(2015, 11, 20, 17, 15, 0, 4, 324, 0)</td>\n",
       "      <td>&lt;div style=\"padding: 0px; margin-bottom: 1.5em...</td>\n",
       "      <td>{u'base': u'', u'type': u'text/html', u'value'...</td>\n",
       "      <td>Battle of Dividend Stocks: Apple, Inc. Versus ...</td>\n",
       "      <td>{u'base': u'', u'type': u'text/plain', u'value...</td>\n",
       "    </tr>\n",
       "    <tr>\n",
       "      <th>4</th>\n",
       "      <td>False</td>\n",
       "      <td>tag:finance.google.com,cluster:http://www.ibti...</td>\n",
       "      <td>http://www.ibtimes.com/can-apple-inc-survive-i...</td>\n",
       "      <td>[{u'href': u'http://www.ibtimes.com/can-apple-...</td>\n",
       "      <td>Fri, 20 Nov 2015 17:27:45 GMT</td>\n",
       "      <td>(2015, 11, 20, 17, 27, 45, 4, 324, 0)</td>\n",
       "      <td>&lt;div style=\"padding: 0px; margin-bottom: 1.5em...</td>\n",
       "      <td>{u'base': u'', u'type': u'text/html', u'value'...</td>\n",
       "      <td>Can Apple Inc. Survive The iPhone? Shift To Lo...</td>\n",
       "      <td>{u'base': u'', u'type': u'text/plain', u'value...</td>\n",
       "    </tr>\n",
       "    <tr>\n",
       "      <th>5</th>\n",
       "      <td>False</td>\n",
       "      <td>tag:finance.google.com,cluster:52778996180947</td>\n",
       "      <td>http://www.fool.com/investing/general/2015/11/...</td>\n",
       "      <td>[{u'href': u'http://www.fool.com/investing/gen...</td>\n",
       "      <td>Sat, 21 Nov 2015 13:52:30 GMT</td>\n",
       "      <td>(2015, 11, 21, 13, 52, 30, 5, 325, 0)</td>\n",
       "      <td>&lt;div style=\"padding: 0px; margin-bottom: 1.5em...</td>\n",
       "      <td>{u'base': u'', u'type': u'text/html', u'value'...</td>\n",
       "      <td>How Apple, Inc. Might Eventually Make $153 Off...</td>\n",
       "      <td>{u'base': u'', u'type': u'text/plain', u'value...</td>\n",
       "    </tr>\n",
       "    <tr>\n",
       "      <th>6</th>\n",
       "      <td>False</td>\n",
       "      <td>tag:finance.google.com,cluster:52778995279401</td>\n",
       "      <td>http://www.fool.com/investing/general/2015/11/...</td>\n",
       "      <td>[{u'href': u'http://www.fool.com/investing/gen...</td>\n",
       "      <td>Thu, 19 Nov 2015 19:30:00 GMT</td>\n",
       "      <td>(2015, 11, 19, 19, 30, 0, 3, 323, 0)</td>\n",
       "      <td>&lt;div style=\"padding: 0px; margin-bottom: 1.5em...</td>\n",
       "      <td>{u'base': u'', u'type': u'text/html', u'value'...</td>\n",
       "      <td>3 Areas of Innovation that Apple Inc. Will Lik...</td>\n",
       "      <td>{u'base': u'', u'type': u'text/plain', u'value...</td>\n",
       "    </tr>\n",
       "    <tr>\n",
       "      <th>7</th>\n",
       "      <td>False</td>\n",
       "      <td>tag:finance.google.com,cluster:52778995877571</td>\n",
       "      <td>http://www.technewstoday.com/27389-apple-inc-e...</td>\n",
       "      <td>[{u'href': u'http://www.technewstoday.com/2738...</td>\n",
       "      <td>Sat, 21 Nov 2015 13:52:30 GMT</td>\n",
       "      <td>(2015, 11, 21, 13, 52, 30, 5, 325, 0)</td>\n",
       "      <td>&lt;div style=\"padding: 0px; margin-bottom: 1.5em...</td>\n",
       "      <td>{u'base': u'', u'type': u'text/html', u'value'...</td>\n",
       "      <td>Apple Inc. Emerges Victorious Against The Pend...</td>\n",
       "      <td>{u'base': u'', u'type': u'text/plain', u'value...</td>\n",
       "    </tr>\n",
       "    <tr>\n",
       "      <th>8</th>\n",
       "      <td>False</td>\n",
       "      <td>tag:finance.google.com,cluster:52778995652097</td>\n",
       "      <td>http://www.profitconfidential.com/stock/aapl-s...</td>\n",
       "      <td>[{u'href': u'http://www.profitconfidential.com...</td>\n",
       "      <td>Fri, 20 Nov 2015 16:02:03 GMT</td>\n",
       "      <td>(2015, 11, 20, 16, 2, 3, 4, 324, 0)</td>\n",
       "      <td>&lt;div style=\"padding: 0px; margin-bottom: 1.5em...</td>\n",
       "      <td>{u'base': u'', u'type': u'text/html', u'value'...</td>\n",
       "      <td>AAPL Stock: David Einhorn Is Bullish on Apple ...</td>\n",
       "      <td>{u'base': u'', u'type': u'text/plain', u'value...</td>\n",
       "    </tr>\n",
       "    <tr>\n",
       "      <th>9</th>\n",
       "      <td>False</td>\n",
       "      <td>tag:finance.google.com,cluster:52778994729306</td>\n",
       "      <td>http://learnbonds.com/125141/apple-inc-needs-a...</td>\n",
       "      <td>[{u'href': u'http://learnbonds.com/125141/appl...</td>\n",
       "      <td>Fri, 20 Nov 2015 16:33:36 GMT</td>\n",
       "      <td>(2015, 11, 20, 16, 33, 36, 4, 324, 0)</td>\n",
       "      <td>&lt;div style=\"padding: 0px; margin-bottom: 1.5em...</td>\n",
       "      <td>{u'base': u'', u'type': u'text/html', u'value'...</td>\n",
       "      <td>Apple Inc. Needs Adele to Show It's Not Omnipo...</td>\n",
       "      <td>{u'base': u'', u'type': u'text/html', u'value'...</td>\n",
       "    </tr>\n",
       "  </tbody>\n",
       "</table>\n",
       "</div>"
      ],
      "text/plain": [
       "  guidislink                                                 id  \\\n",
       "0      False      tag:finance.google.com,cluster:52778995600145   \n",
       "1      False      tag:finance.google.com,cluster:52778996136253   \n",
       "2      False      tag:finance.google.com,cluster:52778994514540   \n",
       "3      False      tag:finance.google.com,cluster:52778995809522   \n",
       "4      False  tag:finance.google.com,cluster:http://www.ibti...   \n",
       "5      False      tag:finance.google.com,cluster:52778996180947   \n",
       "6      False      tag:finance.google.com,cluster:52778995279401   \n",
       "7      False      tag:finance.google.com,cluster:52778995877571   \n",
       "8      False      tag:finance.google.com,cluster:52778995652097   \n",
       "9      False      tag:finance.google.com,cluster:52778994729306   \n",
       "\n",
       "                                                link  \\\n",
       "0  http://www.fool.com/investing/general/2015/11/...   \n",
       "1  http://www.fool.com/investing/general/2015/11/...   \n",
       "2  http://www.fool.com/investing/general/2015/11/...   \n",
       "3  http://www.fool.com/investing/general/2015/11/...   \n",
       "4  http://www.ibtimes.com/can-apple-inc-survive-i...   \n",
       "5  http://www.fool.com/investing/general/2015/11/...   \n",
       "6  http://www.fool.com/investing/general/2015/11/...   \n",
       "7  http://www.technewstoday.com/27389-apple-inc-e...   \n",
       "8  http://www.profitconfidential.com/stock/aapl-s...   \n",
       "9  http://learnbonds.com/125141/apple-inc-needs-a...   \n",
       "\n",
       "                                               links  \\\n",
       "0  [{u'href': u'http://www.fool.com/investing/gen...   \n",
       "1  [{u'href': u'http://www.fool.com/investing/gen...   \n",
       "2  [{u'href': u'http://www.fool.com/investing/gen...   \n",
       "3  [{u'href': u'http://www.fool.com/investing/gen...   \n",
       "4  [{u'href': u'http://www.ibtimes.com/can-apple-...   \n",
       "5  [{u'href': u'http://www.fool.com/investing/gen...   \n",
       "6  [{u'href': u'http://www.fool.com/investing/gen...   \n",
       "7  [{u'href': u'http://www.technewstoday.com/2738...   \n",
       "8  [{u'href': u'http://www.profitconfidential.com...   \n",
       "9  [{u'href': u'http://learnbonds.com/125141/appl...   \n",
       "\n",
       "                       published                       published_parsed  \\\n",
       "0  Sat, 21 Nov 2015 16:30:00 GMT   (2015, 11, 21, 16, 30, 0, 5, 325, 0)   \n",
       "1  Sat, 21 Nov 2015 11:26:15 GMT  (2015, 11, 21, 11, 26, 15, 5, 325, 0)   \n",
       "2  Thu, 19 Nov 2015 18:00:00 GMT    (2015, 11, 19, 18, 0, 0, 3, 323, 0)   \n",
       "3  Fri, 20 Nov 2015 17:15:00 GMT   (2015, 11, 20, 17, 15, 0, 4, 324, 0)   \n",
       "4  Fri, 20 Nov 2015 17:27:45 GMT  (2015, 11, 20, 17, 27, 45, 4, 324, 0)   \n",
       "5  Sat, 21 Nov 2015 13:52:30 GMT  (2015, 11, 21, 13, 52, 30, 5, 325, 0)   \n",
       "6  Thu, 19 Nov 2015 19:30:00 GMT   (2015, 11, 19, 19, 30, 0, 3, 323, 0)   \n",
       "7  Sat, 21 Nov 2015 13:52:30 GMT  (2015, 11, 21, 13, 52, 30, 5, 325, 0)   \n",
       "8  Fri, 20 Nov 2015 16:02:03 GMT    (2015, 11, 20, 16, 2, 3, 4, 324, 0)   \n",
       "9  Fri, 20 Nov 2015 16:33:36 GMT  (2015, 11, 20, 16, 33, 36, 4, 324, 0)   \n",
       "\n",
       "                                             summary  \\\n",
       "0  <div style=\"padding: 0px; margin-bottom: 1.5em...   \n",
       "1  <div style=\"padding: 0px; margin-bottom: 1.5em...   \n",
       "2  <div style=\"padding: 0px; margin-bottom: 1.5em...   \n",
       "3  <div style=\"padding: 0px; margin-bottom: 1.5em...   \n",
       "4  <div style=\"padding: 0px; margin-bottom: 1.5em...   \n",
       "5  <div style=\"padding: 0px; margin-bottom: 1.5em...   \n",
       "6  <div style=\"padding: 0px; margin-bottom: 1.5em...   \n",
       "7  <div style=\"padding: 0px; margin-bottom: 1.5em...   \n",
       "8  <div style=\"padding: 0px; margin-bottom: 1.5em...   \n",
       "9  <div style=\"padding: 0px; margin-bottom: 1.5em...   \n",
       "\n",
       "                                      summary_detail  \\\n",
       "0  {u'base': u'', u'type': u'text/html', u'value'...   \n",
       "1  {u'base': u'', u'type': u'text/html', u'value'...   \n",
       "2  {u'base': u'', u'type': u'text/html', u'value'...   \n",
       "3  {u'base': u'', u'type': u'text/html', u'value'...   \n",
       "4  {u'base': u'', u'type': u'text/html', u'value'...   \n",
       "5  {u'base': u'', u'type': u'text/html', u'value'...   \n",
       "6  {u'base': u'', u'type': u'text/html', u'value'...   \n",
       "7  {u'base': u'', u'type': u'text/html', u'value'...   \n",
       "8  {u'base': u'', u'type': u'text/html', u'value'...   \n",
       "9  {u'base': u'', u'type': u'text/html', u'value'...   \n",
       "\n",
       "                                               title  \\\n",
       "0  5 Apple Inc. Car Rumors We've Learned Over the...   \n",
       "1  TSMC Said to Be the Sole Manufacturer of Apple...   \n",
       "2          Analyst: Apple Inc. Stock Has Huge Upside   \n",
       "3  Battle of Dividend Stocks: Apple, Inc. Versus ...   \n",
       "4  Can Apple Inc. Survive The iPhone? Shift To Lo...   \n",
       "5  How Apple, Inc. Might Eventually Make $153 Off...   \n",
       "6  3 Areas of Innovation that Apple Inc. Will Lik...   \n",
       "7  Apple Inc. Emerges Victorious Against The Pend...   \n",
       "8  AAPL Stock: David Einhorn Is Bullish on Apple ...   \n",
       "9  Apple Inc. Needs Adele to Show It's Not Omnipo...   \n",
       "\n",
       "                                        title_detail  \n",
       "0  {u'base': u'', u'type': u'text/html', u'value'...  \n",
       "1  {u'base': u'', u'type': u'text/html', u'value'...  \n",
       "2  {u'base': u'', u'type': u'text/plain', u'value...  \n",
       "3  {u'base': u'', u'type': u'text/plain', u'value...  \n",
       "4  {u'base': u'', u'type': u'text/plain', u'value...  \n",
       "5  {u'base': u'', u'type': u'text/plain', u'value...  \n",
       "6  {u'base': u'', u'type': u'text/plain', u'value...  \n",
       "7  {u'base': u'', u'type': u'text/plain', u'value...  \n",
       "8  {u'base': u'', u'type': u'text/plain', u'value...  \n",
       "9  {u'base': u'', u'type': u'text/html', u'value'...  "
      ]
     },
     "execution_count": 16,
     "metadata": {},
     "output_type": "execute_result"
    }
   ],
   "source": [
    "d"
   ]
  },
  {
   "cell_type": "code",
   "execution_count": 17,
   "metadata": {
    "collapsed": true
   },
   "outputs": [],
   "source": [
    "url_string = '&url='.join(d['link'].values)"
   ]
  },
  {
   "cell_type": "code",
   "execution_count": 18,
   "metadata": {
    "collapsed": false
   },
   "outputs": [
    {
     "data": {
      "text/plain": [
       "u'http://www.fool.com/investing/general/2015/11/21/5-apple-inc-car-rumors-weve-learned-over-the-past.aspx&url=http://www.fool.com/investing/general/2015/11/21/tsmc-said-to-be-the-sole-manufacturer-of-apple-inc.aspx&url=http://www.fool.com/investing/general/2015/11/19/analyst-apple-inc-stock-has-huge-upside.aspx&url=http://www.fool.com/investing/general/2015/11/20/battle-of-dividend-stocks-apple-versus-microsoft.aspx&url=http://www.ibtimes.com/can-apple-inc-survive-iphone-shift-lower-margin-services-may-not-please-investors-2192613&url=http://www.fool.com/investing/general/2015/11/21/how-apple-inc-might-eventually-make-153-off-each-u.aspx?source=iedfolrf0000001&url=http://www.fool.com/investing/general/2015/11/19/3-areas-of-innovation-that-apple-inc-will-likely-f.aspx&url=http://www.technewstoday.com/27389-apple-inc-emerges-victorious-against-the-pendrell-patent-trial/&url=http://www.profitconfidential.com/stock/aapl-stock-david-einhorn-is-bullish-on-apple-inc-should-you-be-too/&url=http://learnbonds.com/125141/apple-inc-needs-adele-to-show-its-not-omnipotent/'"
      ]
     },
     "execution_count": 18,
     "metadata": {},
     "output_type": "execute_result"
    }
   ],
   "source": [
    "url_string"
   ]
  },
  {
   "cell_type": "code",
   "execution_count": 20,
   "metadata": {
    "collapsed": true
   },
   "outputs": [],
   "source": [
    "resp = requests.get(\"https://api.havenondemand.com/1/api/sync/analyzesentiment/v1?apikey=efcb119e-5470-4673-b22c-b00c32640257&url=\" + url_string)"
   ]
  },
  {
   "cell_type": "code",
   "execution_count": 23,
   "metadata": {
    "collapsed": false
   },
   "outputs": [
    {
     "data": {
      "text/plain": [
       "200"
      ]
     },
     "execution_count": 23,
     "metadata": {},
     "output_type": "execute_result"
    }
   ],
   "source": [
    "resp.status_code"
   ]
  },
  {
   "cell_type": "code",
   "execution_count": 10,
   "metadata": {
    "collapsed": true
   },
   "outputs": [],
   "source": [
    "analysis = resp.json()"
   ]
  },
  {
   "cell_type": "code",
   "execution_count": 11,
   "metadata": {
    "collapsed": false
   },
   "outputs": [
    {
     "data": {
      "text/plain": [
       "{u'actions': [{u'action': u'analyzesentiment',\n",
       "   u'errors': [{u'detail': u'Download failed: http://www.moneyflowindex.org/price-target-update-on-3m-company-nysemmm/3194099/ (HTTP 406)',\n",
       "     u'error': 4013,\n",
       "     u'reason': u'HTTP GET request failed'}],\n",
       "   u'status': u'failed',\n",
       "   u'version': u'v1'}],\n",
       " u'error': 4013,\n",
       " u'reason': u'Job actions failed',\n",
       " u'status': u'failed'}"
      ]
     },
     "execution_count": 11,
     "metadata": {},
     "output_type": "execute_result"
    }
   ],
   "source": [
    "analysis"
   ]
  },
  {
   "cell_type": "code",
   "execution_count": null,
   "metadata": {
    "collapsed": true
   },
   "outputs": [],
   "source": []
  }
 ],
 "metadata": {
  "kernelspec": {
   "display_name": "Python 2",
   "language": "python",
   "name": "python2"
  },
  "language_info": {
   "codemirror_mode": {
    "name": "ipython",
    "version": 2
   },
   "file_extension": ".py",
   "mimetype": "text/x-python",
   "name": "python",
   "nbconvert_exporter": "python",
   "pygments_lexer": "ipython2",
   "version": "2.7.10"
  }
 },
 "nbformat": 4,
 "nbformat_minor": 0
}
